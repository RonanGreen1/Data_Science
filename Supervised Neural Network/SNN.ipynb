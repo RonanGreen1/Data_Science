{
 "cells": [
  {
   "cell_type": "code",
   "execution_count": null,
   "metadata": {},
   "outputs": [],
   "source": [
    "# Import pandas for data manipulation\n",
    "import pandas as pd\n",
    "\n",
    "# Here we assume the CSV file has headers; if not, set header=None.\n",
    "df = pd.read_csv('Concrete_Data.csv')\n",
    "\n",
    "# Display the first few rows to check the data\n",
    "df.head()"
   ]
  }
 ],
 "metadata": {
  "language_info": {
   "name": "python"
  }
 },
 "nbformat": 4,
 "nbformat_minor": 2
}
