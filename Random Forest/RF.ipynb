{
 "cells": [
  {
   "cell_type": "code",
   "execution_count": null,
   "metadata": {},
   "outputs": [
    {
     "name": "stdout",
     "output_type": "stream",
     "text": [
      "File successfully converted to CSV and saved as 'converted_file.csv'\n"
     ]
    }
   ],
   "source": [
    "from scipy.io import arff\n",
    "\n",
    "# Data Processing\n",
    "import pandas as pd\n",
    "import numpy as np\n",
    "\n",
    "# Visualisation\n",
    "import matplotlib.pyplot as plt\n",
    "import pandas as pd\n",
    "\n",
    "# Replace 'your_file.arff' with the path to your ARFF file\n",
    "arff_file_path = r\"C:\\Users\\ronan\\Fourth_Year\\Data_Science\\Data_Science\\Random Forest\\kick.arff\"\n",
    "\n",
    "\n",
    "# Load the ARFF file\n",
    "data, meta = arff.loadarff(arff_file_path)\n",
    "df = pd.DataFrame(data)\n",
    "\n",
    "# Save it as CSV\n",
    "df.to_csv('converted_file.csv', index=False)\n",
    "print(\"File successfully converted to CSV and saved as 'converted_file.csv'\")"
   ]
  },
  {
   "cell_type": "code",
   "execution_count": 7,
   "metadata": {},
   "outputs": [
    {
     "name": "stdout",
     "output_type": "stream",
     "text": [
      "First 5 rows of the dataset:\n",
      "  IsBadBuy     PurchDate   Auction  VehYear  VehicleAge      Make  \\\n",
      "0     b'0'  1.260144e+09  b'ADESA'   2006.0         3.0  b'MAZDA'   \n",
      "1     b'0'  1.260144e+09  b'ADESA'   2004.0         5.0  b'DODGE'   \n",
      "2     b'0'  1.260144e+09  b'ADESA'   2005.0         4.0  b'DODGE'   \n",
      "3     b'0'  1.260144e+09  b'ADESA'   2004.0         5.0  b'DODGE'   \n",
      "4     b'0'  1.260144e+09  b'ADESA'   2005.0         4.0   b'FORD'   \n",
      "\n",
      "                    Model    Trim              SubModel      Color  ...  \\\n",
      "0               b'MAZDA3'    b'i'         b'4D SEDAN I'     b'RED'  ...   \n",
      "1  b'1500 RAM PICKUP 2WD'   b'ST'  b'QUAD CAB 4.7L SLT'   b'WHITE'  ...   \n",
      "2           b'STRATUS V6'  b'SXT'   b'4D SEDAN SXT FFV'  b'MAROON'  ...   \n",
      "3                 b'NEON'  b'SXT'           b'4D SEDAN'  b'SILVER'  ...   \n",
      "4                b'FOCUS'  b'ZX3'       b'2D COUPE ZX3'  b'SILVER'  ...   \n",
      "\n",
      "  MMRCurrentRetailAveragePrice MMRCurrentRetailCleanPrice PRIMEUNIT  AUCGUART  \\\n",
      "0                      11597.0                    12409.0      b'?'      b'?'   \n",
      "1                      11374.0                    12791.0      b'?'      b'?'   \n",
      "2                       7146.0                     8702.0      b'?'      b'?'   \n",
      "3                       4375.0                     5518.0      b'?'      b'?'   \n",
      "4                       6739.0                     7911.0      b'?'      b'?'   \n",
      "\n",
      "      BYRNO    VNZIP1   VNST  VehBCost  IsOnlineSale  WarrantyCost  \n",
      "0  b'21973'  b'33619'  b'FL'    7100.0          b'0'        1113.0  \n",
      "1  b'19638'  b'33619'  b'FL'    7600.0          b'0'        1053.0  \n",
      "2  b'19638'  b'33619'  b'FL'    4900.0          b'0'        1389.0  \n",
      "3  b'19638'  b'33619'  b'FL'    4100.0          b'0'         630.0  \n",
      "4  b'19638'  b'33619'  b'FL'    4000.0          b'0'        1020.0  \n",
      "\n",
      "[5 rows x 33 columns]\n",
      "\n",
      "Dataset Information:\n",
      "<class 'pandas.core.frame.DataFrame'>\n",
      "RangeIndex: 72983 entries, 0 to 72982\n",
      "Data columns (total 33 columns):\n",
      " #   Column                             Non-Null Count  Dtype  \n",
      "---  ------                             --------------  -----  \n",
      " 0   IsBadBuy                           72983 non-null  object \n",
      " 1   PurchDate                          72983 non-null  float64\n",
      " 2   Auction                            72983 non-null  object \n",
      " 3   VehYear                            72983 non-null  float64\n",
      " 4   VehicleAge                         72983 non-null  float64\n",
      " 5   Make                               72983 non-null  object \n",
      " 6   Model                              72983 non-null  object \n",
      " 7   Trim                               72983 non-null  object \n",
      " 8   SubModel                           72983 non-null  object \n",
      " 9   Color                              72983 non-null  object \n",
      " 10  Transmission                       72983 non-null  object \n",
      " 11  WheelTypeID                        72983 non-null  object \n",
      " 12  WheelType                          72983 non-null  object \n",
      " 13  VehOdo                             72983 non-null  float64\n",
      " 14  Nationality                        72983 non-null  object \n",
      " 15  Size                               72983 non-null  object \n",
      " 16  TopThreeAmericanName               72983 non-null  object \n",
      " 17  MMRAcquisitionAuctionAveragePrice  72965 non-null  float64\n",
      " 18  MMRAcquisitionAuctionCleanPrice    72965 non-null  float64\n",
      " 19  MMRAcquisitionRetailAveragePrice   72965 non-null  float64\n",
      " 20  MMRAcquisitonRetailCleanPrice      72965 non-null  float64\n",
      " 21  MMRCurrentAuctionAveragePrice      72668 non-null  float64\n",
      " 22  MMRCurrentAuctionCleanPrice        72668 non-null  float64\n",
      " 23  MMRCurrentRetailAveragePrice       72668 non-null  float64\n",
      " 24  MMRCurrentRetailCleanPrice         72668 non-null  float64\n",
      " 25  PRIMEUNIT                          72983 non-null  object \n",
      " 26  AUCGUART                           72983 non-null  object \n",
      " 27  BYRNO                              72983 non-null  object \n",
      " 28  VNZIP1                             72983 non-null  object \n",
      " 29  VNST                               72983 non-null  object \n",
      " 30  VehBCost                           72915 non-null  float64\n",
      " 31  IsOnlineSale                       72983 non-null  object \n",
      " 32  WarrantyCost                       72983 non-null  float64\n",
      "dtypes: float64(14), object(19)\n",
      "memory usage: 18.4+ MB\n",
      "None\n"
     ]
    }
   ],
   "source": [
    "# Load the dataset\n",
    "data = pd.read_csv('converted_file.csv')\n",
    "\n",
    "# Display the first few rows of the dataset\n",
    "print(\"First 5 rows of the dataset:\")\n",
    "print(data.head())\n",
    "\n",
    "# Display information about the dataset\n",
    "print(\"\\nDataset Information:\")\n",
    "print(data.info())"
   ]
  },
  {
   "cell_type": "code",
   "execution_count": 8,
   "metadata": {},
   "outputs": [
    {
     "name": "stdout",
     "output_type": "stream",
     "text": [
      "Cleaned Dataset (First 5 rows):\n",
      "  IsBadBuy   Auction  VehYear  VehicleAge      Make                   Model  \\\n",
      "0     b'0'  b'ADESA'   2006.0         3.0  b'MAZDA'               b'MAZDA3'   \n",
      "1     b'0'  b'ADESA'   2004.0         5.0  b'DODGE'  b'1500 RAM PICKUP 2WD'   \n",
      "2     b'0'  b'ADESA'   2005.0         4.0  b'DODGE'           b'STRATUS V6'   \n",
      "3     b'0'  b'ADESA'   2004.0         5.0  b'DODGE'                 b'NEON'   \n",
      "4     b'0'  b'ADESA'   2005.0         4.0   b'FORD'                b'FOCUS'   \n",
      "\n",
      "     Trim      Color Transmission WheelTypeID  ...  \\\n",
      "0    b'i'     b'RED'      b'AUTO'        b'1'  ...   \n",
      "1   b'ST'   b'WHITE'      b'AUTO'        b'1'  ...   \n",
      "2  b'SXT'  b'MAROON'      b'AUTO'        b'2'  ...   \n",
      "3  b'SXT'  b'SILVER'      b'AUTO'        b'1'  ...   \n",
      "4  b'ZX3'  b'SILVER'    b'MANUAL'        b'2'  ...   \n",
      "\n",
      "  MMRAcquisitionRetailAveragePrice  MMRAcquisitonRetailCleanPrice  \\\n",
      "0                          11636.0                        13600.0   \n",
      "1                          10897.0                        12572.0   \n",
      "2                           6943.0                         8457.0   \n",
      "3                           4658.0                         5690.0   \n",
      "4                           7723.0                         8707.0   \n",
      "\n",
      "  MMRCurrentAuctionAveragePrice MMRCurrentAuctionCleanPrice  \\\n",
      "0                        7451.0                      8552.0   \n",
      "1                        7456.0                      9222.0   \n",
      "2                        4035.0                      5557.0   \n",
      "3                        1844.0                      2646.0   \n",
      "4                        3247.0                      4384.0   \n",
      "\n",
      "  MMRCurrentRetailAveragePrice  MMRCurrentRetailCleanPrice   VNST  VehBCost  \\\n",
      "0                      11597.0                     12409.0  b'FL'    7100.0   \n",
      "1                      11374.0                     12791.0  b'FL'    7600.0   \n",
      "2                       7146.0                      8702.0  b'FL'    4900.0   \n",
      "3                       4375.0                      5518.0  b'FL'    4100.0   \n",
      "4                       6739.0                      7911.0  b'FL'    4000.0   \n",
      "\n",
      "   IsOnlineSale  WarrantyCost  \n",
      "0          b'0'        1113.0  \n",
      "1          b'0'        1053.0  \n",
      "2          b'0'        1389.0  \n",
      "3          b'0'         630.0  \n",
      "4          b'0'        1020.0  \n",
      "\n",
      "[5 rows x 27 columns]\n"
     ]
    }
   ],
   "source": [
    "# Drop unnecessary columns (update with the actual column names after inspecting the data)\n",
    "columns_to_drop = ['PurchDate', 'SubModel', 'VNZIP1', 'BYRNO', 'AUCGUART', 'PRIMEUNIT']\n",
    "data_cleaned = data.drop(columns=columns_to_drop, axis=1)\n",
    "\n",
    "# Display the cleaned dataset to confirm columns are dropped\n",
    "print(\"Cleaned Dataset (First 5 rows):\")\n",
    "print(data_cleaned.head())"
   ]
  },
  {
   "cell_type": "markdown",
   "metadata": {},
   "source": [
    "\n",
    "markdown\n",
    "Copy code\n",
    "### **Explanation of Dropped Columns**\n",
    "\n",
    "1. **`PurchDate`**:\n",
    "   - **Reason**: The purchase date does not provide any significant information about whether the vehicle is a \"bad buy\" or not. If temporal information is relevant, it can be derived (e.g., age of the vehicle at purchase) rather than using the full date.\n",
    "\n",
    "2. **`SubModel`**:\n",
    "   - **Reason**: This column may contain detailed textual data about the vehicle's submodel, which is often redundant when the `Model` column already exists. Including both could lead to overfitting or unnecessary complexity.\n",
    "\n",
    "3. **`VNZIP1`**:\n",
    "   - **Reason**: This column likely represents the ZIP code where the vehicle was purchased or sold. ZIP codes can add high cardinality without meaningful information for this task. \n",
    "\n",
    "4. **`BYRNO`**:\n",
    "   - **Reason**: This column appears to be an identifier for the buyer or transaction. Such identifiers are unique but do not contribute predictive value to the model.\n",
    "\n",
    "5. **`AUCGUART`**:\n",
    "   - **Reason**: This column contains missing or placeholder values (e.g., `b'?'`) and may not provide meaningful information.\n",
    "\n",
    "6. **`PRIMEUNIT`**:\n",
    "   - **Reason**: Similar to `AUCGUART`, this column seems to have placeholder or unclear values (`b'?'`) and lacks a clear connection to predicting the target variable.\n",
    "\n",
    "---\n",
    "\n",
    "### **Why Drop Columns?**\n",
    "Dropping these columns simplifies the dataset by removing irrelevant, redundant, or high-cardinality data that does not meaningfully contribute to the prediction task. This reduces noise and improves the efficiency of the model training process."
   ]
  },
  {
   "cell_type": "code",
   "execution_count": 10,
   "metadata": {},
   "outputs": [
    {
     "name": "stdout",
     "output_type": "stream",
     "text": [
      "Encoded Dataset Dimensions: (72983, 1156)\n"
     ]
    }
   ],
   "source": [
    "# Identify categorical columns for one-hot encoding\n",
    "categorical_columns = ['Auction', 'Make', 'Model', 'Color', 'Transmission', 'WheelType', 'Nationality', 'Size', 'TopThreeAmericanName']\n",
    "\n",
    "# Apply one-hot encoding\n",
    "data_encoded = pd.get_dummies(data_cleaned, columns=categorical_columns, drop_first=True)\n",
    "\n",
    "# Display the dimensions (number of rows and columns) of the encoded dataset\n",
    "print(f\"Encoded Dataset Dimensions: {data_encoded.shape}\")"
   ]
  },
  {
   "cell_type": "code",
   "execution_count": 11,
   "metadata": {},
   "outputs": [
    {
     "name": "stdout",
     "output_type": "stream",
     "text": [
      "Features Shape: (72983, 1155)\n",
      "Target Shape: (72983,)\n"
     ]
    }
   ],
   "source": [
    "# Define features (X) and target (y)\n",
    "X = data_encoded.drop('IsBadBuy', axis=1)\n",
    "y = data_encoded['IsBadBuy']\n",
    "\n",
    "# Display the shapes of X and y to confirm the split\n",
    "print(f\"Features Shape: {X.shape}\")\n",
    "print(f\"Target Shape: {y.shape}\")"
   ]
  },
  {
   "cell_type": "code",
   "execution_count": 12,
   "metadata": {},
   "outputs": [
    {
     "name": "stdout",
     "output_type": "stream",
     "text": [
      "Training Features Shape: (14596, 1155)\n",
      "Training Target Shape: (14596,)\n",
      "Testing Features Shape: (58387, 1155)\n",
      "Testing Target Shape: (58387,)\n"
     ]
    }
   ],
   "source": [
    "from sklearn.model_selection import train_test_split\n",
    "\n",
    "# Split the dataset into training (80%) and testing (20%) sets\n",
    "X_train, X_test, y_train, y_test = train_test_split(X, y, test_size=0.8, random_state=42)\n",
    "\n",
    "# Display the shapes of the resulting datasets\n",
    "print(f\"Training Features Shape: {X_train.shape}\")\n",
    "print(f\"Training Target Shape: {y_train.shape}\")\n",
    "print(f\"Testing Features Shape: {X_test.shape}\")\n",
    "print(f\"Testing Target Shape: {y_test.shape}\")"
   ]
  }
 ],
 "metadata": {
  "kernelspec": {
   "display_name": "Python 3",
   "language": "python",
   "name": "python3"
  },
  "language_info": {
   "codemirror_mode": {
    "name": "ipython",
    "version": 3
   },
   "file_extension": ".py",
   "mimetype": "text/x-python",
   "name": "python",
   "nbconvert_exporter": "python",
   "pygments_lexer": "ipython3",
   "version": "3.11.9"
  }
 },
 "nbformat": 4,
 "nbformat_minor": 2
}
