{
 "cells": [
  {
   "cell_type": "code",
   "execution_count": null,
   "metadata": {},
   "outputs": [
    {
     "name": "stdout",
     "output_type": "stream",
     "text": [
      "Training Data:\n",
      "   Unnamed: 0                  drugName                     condition  \\\n",
      "0      206461                 Valsartan  Left Ventricular Dysfunction   \n",
      "1       95260                Guanfacine                          ADHD   \n",
      "2       92703                    Lybrel                 Birth Control   \n",
      "3      138000                Ortho Evra                 Birth Control   \n",
      "4       35696  Buprenorphine / naloxone             Opiate Dependence   \n",
      "\n",
      "                                              review  rating  \\\n",
      "0  \"It has no side effect, I take it in combinati...     9.0   \n",
      "1  \"My son is halfway through his fourth week of ...     8.0   \n",
      "2  \"I used to take another oral contraceptive, wh...     5.0   \n",
      "3  \"This is my first time using any form of birth...     8.0   \n",
      "4  \"Suboxone has completely turned my life around...     9.0   \n",
      "\n",
      "                date  usefulCount  \n",
      "0       May 20, 2012           27  \n",
      "1     April 27, 2010          192  \n",
      "2  December 14, 2009           17  \n",
      "3   November 3, 2015           10  \n",
      "4  November 27, 2016           37  \n",
      "\n",
      "Test Data:\n",
      "   Unnamed: 0         drugName                     condition  \\\n",
      "0      163740      Mirtazapine                    Depression   \n",
      "1      206473       Mesalamine  Crohn's Disease, Maintenance   \n",
      "2      159672          Bactrim       Urinary Tract Infection   \n",
      "3       39293         Contrave                   Weight Loss   \n",
      "4       97768  Cyclafem 1 / 35                 Birth Control   \n",
      "\n",
      "                                              review  rating  \\\n",
      "0  \"I&#039;ve tried a few antidepressants over th...    10.0   \n",
      "1  \"My son has Crohn&#039;s disease and has done ...     8.0   \n",
      "2                      \"Quick reduction of symptoms\"     9.0   \n",
      "3  \"Contrave combines drugs that were used for al...     9.0   \n",
      "4  \"I have been on this birth control for one cyc...     9.0   \n",
      "\n",
      "                 date  usefulCount  \n",
      "0   February 28, 2012           22  \n",
      "1        May 17, 2009           17  \n",
      "2  September 29, 2017            3  \n",
      "3       March 5, 2017           35  \n",
      "4    October 22, 2015            4  \n",
      "\n",
      "Training Data Info:\n",
      "<class 'pandas.core.frame.DataFrame'>\n",
      "RangeIndex: 161297 entries, 0 to 161296\n",
      "Data columns (total 7 columns):\n",
      " #   Column       Non-Null Count   Dtype  \n",
      "---  ------       --------------   -----  \n",
      " 0   Unnamed: 0   161297 non-null  int64  \n",
      " 1   drugName     161297 non-null  object \n",
      " 2   condition    160398 non-null  object \n",
      " 3   review       161297 non-null  object \n",
      " 4   rating       161297 non-null  float64\n",
      " 5   date         161297 non-null  object \n",
      " 6   usefulCount  161297 non-null  int64  \n",
      "dtypes: float64(1), int64(2), object(4)\n",
      "memory usage: 8.6+ MB\n",
      "None\n",
      "\n",
      "Test Data Info:\n",
      "<class 'pandas.core.frame.DataFrame'>\n",
      "RangeIndex: 53766 entries, 0 to 53765\n",
      "Data columns (total 7 columns):\n",
      " #   Column       Non-Null Count  Dtype  \n",
      "---  ------       --------------  -----  \n",
      " 0   Unnamed: 0   53766 non-null  int64  \n",
      " 1   drugName     53766 non-null  object \n",
      " 2   condition    53471 non-null  object \n",
      " 3   review       53766 non-null  object \n",
      " 4   rating       53766 non-null  float64\n",
      " 5   date         53766 non-null  object \n",
      " 6   usefulCount  53766 non-null  int64  \n",
      "dtypes: float64(1), int64(2), object(4)\n",
      "memory usage: 2.9+ MB\n",
      "None\n"
     ]
    }
   ],
   "source": [
    "# Data Processing\n",
    "import pandas as pd\n",
    "import numpy as np\n",
    "\n",
    "# Visualisation\n",
    "import matplotlib.pyplot as plt\n",
    "\n",
    "# Load the training data\n",
    "train_data = pd.read_csv('drugsComTrain_raw.tsv', sep='\\t')\n",
    "\n",
    "# Load the test data\n",
    "test_data = pd.read_csv('drugsComTest_raw.tsv', sep='\\t')\n",
    "\n",
    "# Display the first few rows of each dataset\n",
    "print(\"Training Data:\")\n",
    "print(train_data.head())\n",
    "\n",
    "print(\"\\nTest Data:\")\n",
    "print(test_data.head())\n",
    "\n",
    "# Optional: Display basic info about the datasets\n",
    "print(\"\\nTraining Data Info:\")\n",
    "print(train_data.info())\n",
    "\n",
    "print(\"\\nTest Data Info:\")\n",
    "print(test_data.info())"
   ]
  },
  {
   "cell_type": "markdown",
   "metadata": {},
   "source": [
    "#### **Training Data**\n",
    "\n",
    "- **Total Entries**: 161,297 rows\n",
    "    \n",
    "- **Columns**:\n",
    "    \n",
    "    1. **`Unnamed: 0`**: An index-like column that likely corresponds to the original dataset's row numbers.\n",
    "    2. **`drugName`**: The name of the drug being reviewed (e.g., \"Valsartan\").\n",
    "    3. **`condition`**: The medical condition for which the drug was prescribed (e.g., \"ADHD\"). Note that some values are missing in this column.\n",
    "    4. **`review`**: A text review from the patient about the drug.\n",
    "    5. **`rating`**: A numerical score (out of 10) reflecting the patient’s satisfaction with the drug.\n",
    "    6. **`date`**: The date the review was written.\n",
    "    7. **`usefulCount`**: The number of users who found the review helpful.\n",
    "- **Key Observations**:\n",
    "    \n",
    "    - The dataset has missing values in the `condition` column.\n",
    "    - `review` is textual data, suitable for sentiment analysis or text feature extraction.\n",
    "    - `rating` is the target variable for regression or classification tasks.\n",
    "\n",
    "#### **Test Data**\n",
    "\n",
    "- **Total Entries**: 53,766 rows\n",
    "- **Columns**: The same as the training data.\n",
    "- **Key Differences**:\n",
    "    - Smaller size compared to the training data.\n",
    "    - The `condition` column also has missing values here."
   ]
  },
  {
   "cell_type": "code",
   "execution_count": 17,
   "metadata": {},
   "outputs": [
    {
     "name": "stdout",
     "output_type": "stream",
     "text": [
      "Files successfully converted to CSV!\n"
     ]
    }
   ],
   "source": [
    "# Convert training data\n",
    "train_data.to_csv('drugsComTrain_raw.csv', index=False)\n",
    "\n",
    "# Convert test data\n",
    "test_data.to_csv('drugsComTest_raw.csv', index=False)\n",
    "\n",
    "print(\"Files successfully converted to CSV!\")"
   ]
  },
  {
   "cell_type": "code",
   "execution_count": null,
   "metadata": {},
   "outputs": [],
   "source": [
    "train_data = train_data.dropna()\n",
    "test_data = test_data.dropna()\n",
    "\n",
    "features = ['drugName', 'condition', 'usefulCount']\n",
    "target = 'rating'\n",
    "\n",
    "train_data = train_data.drop(columns=['review', 'date'])\n",
    "test_data = test_data.drop(columns=['review', 'date'])\n",
    "\n",
    "# Convert categorical variables 'drugName' and 'condition' into one-hot encoded columns.\n",
    "# drop_first=True avoids the dummy variable trap by removing the first category.\n",
    "train_data_cleaned = pd.get_dummies(train_data, columns=['drugName', 'condition'], drop_first=True)"
   ]
  },
  {
   "cell_type": "code",
   "execution_count": 23,
   "metadata": {},
   "outputs": [
    {
     "name": "stdout",
     "output_type": "stream",
     "text": [
      "Training Features: (160398, 4315)\n",
      "Test Features: (53471, 3075)\n",
      "Training Target: (160398,)\n",
      "Test Target: (53471,)\n"
     ]
    }
   ],
   "source": [
    "# Select features and target for training data\n",
    "X_train = train_data_cleaned.drop('rating', axis=1)\n",
    "y_train = train_data_cleaned['rating']\n",
    "\n",
    "# Apply the same preprocessing to test data (dropping NaNs and encoding)\n",
    "test_data_cleaned = pd.get_dummies(test_data, columns=['drugName', 'condition'], drop_first=True)\n",
    "\n",
    "# Ensure test data has the same columns as training data\n",
    "X_test = test_data_cleaned[X_train.columns.intersection(test_data_cleaned.columns)]\n",
    "y_test = test_data_cleaned['rating']\n",
    "\n",
    "# Print shapes to verify alignment\n",
    "print(f\"Training Features: {X_train.shape}\")\n",
    "print(f\"Test Features: {X_test.shape}\")\n",
    "print(f\"Training Target: {y_train.shape}\")\n",
    "print(f\"Test Target: {y_test.shape}\")"
   ]
  },
  {
   "cell_type": "code",
   "execution_count": 24,
   "metadata": {},
   "outputs": [
    {
     "name": "stdout",
     "output_type": "stream",
     "text": [
      "Random Forest model trained successfully!\n"
     ]
    }
   ],
   "source": [
    "from sklearn.ensemble import RandomForestClassifier\n",
    "\n",
    "# Initialize the Random Forest Classifier\n",
    "rf = RandomForestClassifier(n_estimators=100, random_state=42)\n",
    "\n",
    "# Train the model\n",
    "rf.fit(X_train, y_train)\n",
    "\n",
    "print(\"Random Forest model trained successfully!\")"
   ]
  },
  {
   "cell_type": "code",
   "execution_count": 26,
   "metadata": {},
   "outputs": [
    {
     "name": "stdout",
     "output_type": "stream",
     "text": [
      "Accuracy: 0.28\n",
      "\n",
      "Classification Report:\n",
      "              precision    recall  f1-score   support\n",
      "\n",
      "         1.0       0.30      0.31      0.30      7265\n",
      "         2.0       0.07      0.06      0.07      2324\n",
      "         3.0       0.07      0.05      0.06      2197\n",
      "         4.0       0.05      0.04      0.05      1642\n",
      "         5.0       0.08      0.06      0.07      2691\n",
      "         6.0       0.07      0.06      0.06      2102\n",
      "         7.0       0.08      0.07      0.07      3075\n",
      "         8.0       0.14      0.12      0.13      6118\n",
      "         9.0       0.21      0.20      0.21      9120\n",
      "        10.0       0.45      0.54      0.49     16937\n",
      "\n",
      "    accuracy                           0.28     53471\n",
      "   macro avg       0.15      0.15      0.15     53471\n",
      "weighted avg       0.25      0.28      0.26     53471\n",
      "\n",
      "\n",
      "Confusion Matrix:\n",
      "[[2240  442  331  242  374  269  363  669  738 1597]\n",
      " [ 532  140  163   89  152   84  146  239  279  500]\n",
      " [ 453  130  117   97  143   92  143  234  295  493]\n",
      " [ 317   86  102   70   94   75  101  159  240  398]\n",
      " [ 494  131  150  107  173  114  159  299  387  677]\n",
      " [ 321   99   81   84  130  117  141  254  322  553]\n",
      " [ 425  119  119   85  140  128  204  403  526  926]\n",
      " [ 673  203  195  135  262  222  346  727 1112 2243]\n",
      " [ 775  244  205  164  336  241  422  941 1817 3975]\n",
      " [1306  370  327  253  403  352  525 1393 2780 9228]]\n"
     ]
    }
   ],
   "source": [
    "from sklearn.metrics import accuracy_score, classification_report, confusion_matrix\n",
    "\n",
    "X_test = test_data_cleaned.reindex(columns=X_train.columns, fill_value=0)\n",
    "\n",
    "# Make predictions on the test set\n",
    "y_pred = rf.predict(X_test)\n",
    "\n",
    "# Evaluate the model\n",
    "accuracy = accuracy_score(y_test, y_pred)\n",
    "print(f\"Accuracy: {accuracy:.2f}\")\n",
    "\n",
    "print(\"\\nClassification Report:\")\n",
    "print(classification_report(y_test, y_pred))\n",
    "\n",
    "print(\"\\nConfusion Matrix:\")\n",
    "print(confusion_matrix(y_test, y_pred))"
   ]
  },
  {
   "cell_type": "code",
   "execution_count": null,
   "metadata": {},
   "outputs": [],
   "source": []
  }
 ],
 "metadata": {
  "kernelspec": {
   "display_name": "Python 3",
   "language": "python",
   "name": "python3"
  },
  "language_info": {
   "codemirror_mode": {
    "name": "ipython",
    "version": 3
   },
   "file_extension": ".py",
   "mimetype": "text/x-python",
   "name": "python",
   "nbconvert_exporter": "python",
   "pygments_lexer": "ipython3",
   "version": "3.11.9"
  }
 },
 "nbformat": 4,
 "nbformat_minor": 2
}
